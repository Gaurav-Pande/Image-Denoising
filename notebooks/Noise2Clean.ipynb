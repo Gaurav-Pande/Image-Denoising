{
  "nbformat": 4,
  "nbformat_minor": 0,
  "metadata": {
    "colab": {
      "name": "Noise2Clean.ipynb",
      "provenance": []
    },
    "kernelspec": {
      "name": "python3",
      "display_name": "Python 3"
    },
    "accelerator": "GPU"
  },
  "cells": [
    {
      "cell_type": "code",
      "metadata": {
        "id": "X1vA-UFCd4uD",
        "colab_type": "code",
        "outputId": "23b3923b-37f4-4733-fa0c-2f7e5f276c87",
        "colab": {
          "base_uri": "https://localhost:8080/",
          "height": 122
        }
      },
      "source": [
        "from google.colab import drive\n",
        "drive.mount('/content/drive')"
      ],
      "execution_count": 1,
      "outputs": [
        {
          "output_type": "stream",
          "text": [
            "Go to this URL in a browser: https://accounts.google.com/o/oauth2/auth?client_id=947318989803-6bn6qk8qdgf4n4g3pfee6491hc0brc4i.apps.googleusercontent.com&redirect_uri=urn%3aietf%3awg%3aoauth%3a2.0%3aoob&response_type=code&scope=email%20https%3a%2f%2fwww.googleapis.com%2fauth%2fdocs.test%20https%3a%2f%2fwww.googleapis.com%2fauth%2fdrive%20https%3a%2f%2fwww.googleapis.com%2fauth%2fdrive.photos.readonly%20https%3a%2f%2fwww.googleapis.com%2fauth%2fpeopleapi.readonly\n",
            "\n",
            "Enter your authorization code:\n",
            "··········\n",
            "Mounted at /content/drive\n"
          ],
          "name": "stdout"
        }
      ]
    },
    {
      "cell_type": "code",
      "metadata": {
        "id": "sies68brly7U",
        "colab_type": "code",
        "colab": {}
      },
      "source": [
        "# !unzip \"/content/CBSD68-dataset-master.zip\""
      ],
      "execution_count": 0,
      "outputs": []
    },
    {
      "cell_type": "code",
      "metadata": {
        "id": "kSoNrdaIly-0",
        "colab_type": "code",
        "colab": {}
      },
      "source": [
        "import pandas as pd\n",
        "import os\n",
        "import random\n",
        "random.seed(2)\n",
        "\n",
        "files = os.listdir(\"/content/CBSD68-dataset-master/CBSD68/original_png\")\n",
        "# files = [file[:-4] for file in files if \"real\" in file]\n",
        "\n",
        "random.shuffle(files)\n",
        "\n",
        "train = files[:50]\n",
        "val = files[50:59]\n",
        "test = files[59:]\n",
        "\n",
        "# print(len(files))\n",
        "\n",
        "train_df = pd.DataFrame({\"files\":train})\n",
        "train_df.to_csv(\"/content/train_data.csv\",index=None)\n",
        "\n",
        "val_df = pd.DataFrame({\"files\":val})\n",
        "val_df.to_csv(\"/content/val_data.csv\",index=None)\n",
        "\n",
        "test_df = pd.DataFrame({\"files\":test})\n",
        "test_df.to_csv(\"/content/test_data.csv\",index=None)"
      ],
      "execution_count": 0,
      "outputs": []
    },
    {
      "cell_type": "code",
      "metadata": {
        "id": "wchdQUzi7Vf3",
        "colab_type": "code",
        "colab": {
          "base_uri": "https://localhost:8080/",
          "height": 328
        },
        "outputId": "c0e6a6bb-aadd-4eeb-88d0-7f64db7efb3f"
      },
      "source": [
        "test_df"
      ],
      "execution_count": 161,
      "outputs": [
        {
          "output_type": "execute_result",
          "data": {
            "text/html": [
              "<div>\n",
              "<style scoped>\n",
              "    .dataframe tbody tr th:only-of-type {\n",
              "        vertical-align: middle;\n",
              "    }\n",
              "\n",
              "    .dataframe tbody tr th {\n",
              "        vertical-align: top;\n",
              "    }\n",
              "\n",
              "    .dataframe thead th {\n",
              "        text-align: right;\n",
              "    }\n",
              "</style>\n",
              "<table border=\"1\" class=\"dataframe\">\n",
              "  <thead>\n",
              "    <tr style=\"text-align: right;\">\n",
              "      <th></th>\n",
              "      <th>files</th>\n",
              "    </tr>\n",
              "  </thead>\n",
              "  <tbody>\n",
              "    <tr>\n",
              "      <th>0</th>\n",
              "      <td>0064.png</td>\n",
              "    </tr>\n",
              "    <tr>\n",
              "      <th>1</th>\n",
              "      <td>0045.png</td>\n",
              "    </tr>\n",
              "    <tr>\n",
              "      <th>2</th>\n",
              "      <td>0055.png</td>\n",
              "    </tr>\n",
              "    <tr>\n",
              "      <th>3</th>\n",
              "      <td>0003.png</td>\n",
              "    </tr>\n",
              "    <tr>\n",
              "      <th>4</th>\n",
              "      <td>0041.png</td>\n",
              "    </tr>\n",
              "    <tr>\n",
              "      <th>5</th>\n",
              "      <td>0047.png</td>\n",
              "    </tr>\n",
              "    <tr>\n",
              "      <th>6</th>\n",
              "      <td>0030.png</td>\n",
              "    </tr>\n",
              "    <tr>\n",
              "      <th>7</th>\n",
              "      <td>0028.png</td>\n",
              "    </tr>\n",
              "    <tr>\n",
              "      <th>8</th>\n",
              "      <td>0011.png</td>\n",
              "    </tr>\n",
              "  </tbody>\n",
              "</table>\n",
              "</div>"
            ],
            "text/plain": [
              "      files\n",
              "0  0064.png\n",
              "1  0045.png\n",
              "2  0055.png\n",
              "3  0003.png\n",
              "4  0041.png\n",
              "5  0047.png\n",
              "6  0030.png\n",
              "7  0028.png\n",
              "8  0011.png"
            ]
          },
          "metadata": {
            "tags": []
          },
          "execution_count": 161
        }
      ]
    },
    {
      "cell_type": "code",
      "metadata": {
        "id": "beAQ-V8teAbN",
        "colab_type": "code",
        "colab": {}
      },
      "source": [
        "# Project: ML 7641\n",
        "# Author: Sai Sateesh Gudapati\n",
        "\n",
        "from __future__ import print_function, division\n",
        "\n",
        "import torch\n",
        "import torch.nn as nn\n",
        "import torch.optim as optim\n",
        "from torch.optim import lr_scheduler\n",
        "from skimage import io, transform\n",
        "from skimage.color import rgb2ycbcr\n",
        "import numpy as np\n",
        "import torchvision\n",
        "from torchvision import datasets, models, transforms\n",
        "from torch.utils.data import Dataset, DataLoader\n",
        "import matplotlib.pyplot as plt\n",
        "import time\n",
        "import os\n",
        "import copy\n",
        "import pandas as pd\n",
        "import pickle\n",
        "import PIL\n",
        "\n",
        "%matplotlib inline\n",
        "\n",
        "plt.ion()   # interactive mode\n",
        "\n",
        "device = torch.device('cuda')"
      ],
      "execution_count": 0,
      "outputs": []
    },
    {
      "cell_type": "code",
      "metadata": {
        "id": "N2zz9fZgeIGP",
        "colab_type": "code",
        "colab": {}
      },
      "source": [
        "## Define transforms\n",
        "\n",
        "class Rescale(object):\n",
        "    \"\"\"Rescale the image in a sample to a given size.\n",
        "\n",
        "    Args:\n",
        "        output_size (tuple or int): Desired output size. If tuple, output is\n",
        "            matched to output_size. If int, smaller of image edges is matched\n",
        "            to output_size keeping aspect ratio the same.\n",
        "    \"\"\"\n",
        "\n",
        "    def __init__(self, output_size):\n",
        "        assert isinstance(output_size, (int, tuple))\n",
        "        self.output_size = output_size\n",
        "\n",
        "    def __call__(self, sample):\n",
        "        image, n_image = sample['original_image'], sample['noisy_image']\n",
        "\n",
        "        h, w = image.shape[:2]\n",
        "        if isinstance(self.output_size, int):\n",
        "            if h > w:\n",
        "                new_h, new_w = self.output_size * h / w, self.output_size\n",
        "            else:\n",
        "                new_h, new_w = self.output_size, self.output_size * w / h\n",
        "        else:\n",
        "            new_h, new_w = self.output_size\n",
        "\n",
        "        new_h, new_w = int(new_h), int(new_w)\n",
        "\n",
        "        img = transform.resize(image, (new_h, new_w,1))\n",
        "        n_img = transform.resize(n_image,(new_h, new_w,1))\n",
        "        \n",
        "#         print(img.shape)\n",
        "\n",
        "        return {'noisy_image': n_img, 'original_image': img}\n",
        "\n",
        "\n",
        "class RandomCrop(object):\n",
        "    \"\"\"Crop randomly the image in a sample.\n",
        "\n",
        "    Args:\n",
        "        output_size (tuple or int): Desired output size. If int, square crop\n",
        "            is made.\n",
        "    \"\"\"\n",
        "\n",
        "    def __init__(self, output_size):\n",
        "        assert isinstance(output_size, (int, tuple))\n",
        "        if isinstance(output_size, int):\n",
        "            self.output_size = (output_size, output_size)\n",
        "        else:\n",
        "            assert len(output_size) == 2\n",
        "            self.output_size = output_size\n",
        "\n",
        "    def __call__(self, sample):\n",
        "        image, n_image = sample['original_image'], sample['noisy_image']\n",
        "\n",
        "        h, w = image.shape[:2]\n",
        "        new_h, new_w = self.output_size\n",
        "        # new_h, new_w = h,w\n",
        "\n",
        "        # print(h,new_h)\n",
        "\n",
        "        top = np.random.randint(0, h - new_h)\n",
        "        left = np.random.randint(0, w - new_w)\n",
        "\n",
        "        # top =0\n",
        "        # left =0\n",
        "\n",
        "        n_image = n_image[top: top + new_h,\n",
        "                      left: left + new_w]\n",
        "\n",
        "        # image = image[top: top + new_h,\n",
        "                      # left: left + new_w]\n",
        "\n",
        "        image = image[top+8: top + new_h-8,\n",
        "                      left+8: left + new_w-8]\n",
        "\n",
        "\n",
        "\n",
        "        s = self.output_size[0]\n",
        "        # image = transform.resize(image, (s, s,1))\n",
        "        # n_image = transform.resize(n_image,(s, s,1))\n",
        "\n",
        "        return {'original_image': image, 'noisy_image': n_image}\n",
        "\n",
        "\n",
        "\n",
        "class ToTensor(object):\n",
        "    \"\"\"Convert ndarrays in sample to Tensors.\"\"\"\n",
        "\n",
        "    def __call__(self, sample):\n",
        "        image, n_image = sample['original_image'], sample['noisy_image']\n",
        "\n",
        "        # swap color axis because\n",
        "        # numpy image: H x W x C\n",
        "        # torch image: C X H X W\n",
        "        image = image.transpose((2, 0, 1))\n",
        "        n_image = n_image.transpose((2, 0, 1))\n",
        "        return {'original_image': torch.from_numpy(image),\n",
        "                'noisy_image': torch.from_numpy(n_image)}\n",
        "\n",
        "\n",
        "# scale = Rescale((400,400))\n",
        "# to_tensor = ToTensor()\n",
        "composed = transforms.Compose([RandomCrop(33),ToTensor()])\n",
        "# composed = transforms.Compose([ToTensor()])\n",
        "\n",
        "# ## transforms\n",
        "# composed = transforms.Compose([transforms.RandomCrop(33),\n",
        "#                                transforms.RandomHorizontalFlip(),\n",
        "#                                transforms.RandomVerticalFlip(),\n",
        "#                                transforms.RandomRotation(90),\n",
        "#                                transforms.RandomRotation(180),\n",
        "#                                transforms.RandomRotation(270),\n",
        "#                                transforms.ToTensor()])"
      ],
      "execution_count": 0,
      "outputs": []
    },
    {
      "cell_type": "code",
      "metadata": {
        "id": "v-dROsEOed2B",
        "colab_type": "code",
        "colab": {}
      },
      "source": [
        "class NoisyImageDataset(Dataset):\n",
        "    \"\"\"Using PASCAL VOC dataset to create Y,X samples.\"\"\"\n",
        "\n",
        "    def __init__(self, csv_file, root_dir, transform=composed):\n",
        "        \"\"\"\n",
        "        Args:\n",
        "            csv_file (string): Path to the csv file with image names.\n",
        "            root_dir (string): Directory with all the images.\n",
        "            transform (callable, optional): Optional transform to be applied\n",
        "                on a sample.\n",
        "        \"\"\"\n",
        "        self.image_data = pd.read_csv(csv_file)\n",
        "        # print(self.image_data)\n",
        "        self.root_dir = root_dir\n",
        "        self.transform = transform\n",
        "\n",
        "    def __len__(self):\n",
        "        return len(self.image_data)\n",
        "\n",
        "    def __getitem__(self, idx):\n",
        "        if torch.is_tensor(idx):\n",
        "            idx = idx.tolist()\n",
        "\n",
        "        img_name = os.path.join(self.root_dir+\"/original_png\",\n",
        "                                self.image_data.iloc[idx, 0])\n",
        "        \n",
        "        n_img_name = os.path.join(self.root_dir+\"/noisy25\",\n",
        "                                self.image_data.iloc[idx, 0])\n",
        "        \n",
        "        image = io.imread(img_name)\n",
        "        # image = rgb2ycbcr(image)\n",
        "        image = image.astype(\"float64\")\n",
        "\n",
        "        noisy_image = io.imread(n_img_name)\n",
        "        noisy_image = noisy_image.astype(\"float64\")\n",
        "        \n",
        "        # print(noisy_image[:,:,0].shape)\n",
        "        # sample = {'noisy_image': noisy_image2, 'original_image': noisy_image}\n",
        "        sample = {'noisy_image': noisy_image, 'original_image': image}\n",
        "\n",
        "        if self.transform:\n",
        "            sample = self.transform(sample)\n",
        "\n",
        "        return sample"
      ],
      "execution_count": 0,
      "outputs": []
    },
    {
      "cell_type": "code",
      "metadata": {
        "id": "orX3p-OKefiS",
        "colab_type": "code",
        "outputId": "06a45c51-1257-440a-d2f1-3962e6115fae",
        "colab": {
          "base_uri": "https://localhost:8080/",
          "height": 34
        }
      },
      "source": [
        "noise_dataset = NoisyImageDataset(\"/content/train_data.csv\",\"/content/CBSD68-dataset-master/CBSD68\")\n",
        "\n",
        "val_dataset = NoisyImageDataset(\"/content/val_data.csv\",\"/content/CBSD68-dataset-master/CBSD68\")\n",
        "\n",
        "o,n = noise_dataset[6].values()\n",
        "print(n.shape,o.shape)"
      ],
      "execution_count": 232,
      "outputs": [
        {
          "output_type": "stream",
          "text": [
            "torch.Size([3, 33, 33]) torch.Size([3, 17, 17])\n"
          ],
          "name": "stdout"
        }
      ]
    },
    {
      "cell_type": "code",
      "metadata": {
        "id": "XrogqAZBe9bd",
        "colab_type": "code",
        "outputId": "7eb30dff-81c7-4de7-a9d9-ce3652a5a3b6",
        "colab": {
          "base_uri": "https://localhost:8080/",
          "height": 514
        }
      },
      "source": [
        "## visualize crop transform\n",
        "\n",
        "# Apply each of the above transforms on sample.\n",
        "# fig = plt.figure()\n",
        "\n",
        "# crop = RandomCrop(256)\n",
        "sample = noise_dataset[10]\n",
        "\n",
        "plt.imshow(sample[\"noisy_image\"].numpy().astype(\"uint8\").transpose((1,2,0)))\n",
        "plt.show()\n",
        "\n",
        "plt.imshow(sample[\"original_image\"].numpy().astype(\"uint8\").transpose((1,2,0)))\n",
        "plt.show()"
      ],
      "execution_count": 233,
      "outputs": [
        {
          "output_type": "display_data",
          "data": {
            "image/png": "[encoded data removed]",
            "text/plain": [
              "<Figure size 432x288 with 1 Axes>"
            ]
          },
          "metadata": {
            "tags": []
          }
        },
        {
          "output_type": "display_data",
          "data": {
            "image/png": "[encoded data removed]",
            "text/plain": [
              "<Figure size 432x288 with 1 Axes>"
            ]
          },
          "metadata": {
            "tags": []
          }
        }
      ]
    },
    {
      "cell_type": "code",
      "metadata": {
        "id": "nacDvMc3fH8G",
        "colab_type": "code",
        "colab": {}
      },
      "source": [
        "## create dataloader\n",
        "\n",
        "dataloader = DataLoader(noise_dataset, batch_size=16,\n",
        "                        shuffle=True, num_workers=4)\n",
        "\n",
        "valloader = DataLoader(val_dataset, batch_size=4,\n",
        "                        shuffle=True, num_workers=2)"
      ],
      "execution_count": 0,
      "outputs": []
    },
    {
      "cell_type": "code",
      "metadata": {
        "id": "AjNFiWIvfTeQ",
        "colab_type": "code",
        "colab": {}
      },
      "source": [
        "## Defining 3 layer DN-Resnet \n",
        "\n",
        "class DNNet(nn.Module):\n",
        "    def __init__(self):\n",
        "        super(DNNet, self).__init__()\n",
        "        self.layer1 = nn.Sequential(\n",
        "            nn.Conv2d(3, 64, kernel_size=9, stride=1, padding=0),\n",
        "            nn.ReLU())\n",
        "        self.layer2 = nn.Sequential(\n",
        "            nn.Conv2d(64, 32, kernel_size=5, stride=1, padding=0),\n",
        "            nn.ReLU())\n",
        "        self.layer3 = nn.Sequential(\n",
        "            nn.Conv2d(32, 3, kernel_size=5, stride=1, padding=0),\n",
        "            nn.ReLU())\n",
        "\n",
        "    ## forward pass\n",
        "    def forward(self, x):\n",
        "        out = self.layer1(x)\n",
        "        out = self.layer2(out)\n",
        "        out = self.layer3(out)\n",
        "        return out"
      ],
      "execution_count": 0,
      "outputs": []
    },
    {
      "cell_type": "code",
      "metadata": {
        "id": "1wq4DNUVfnBQ",
        "colab_type": "code",
        "colab": {}
      },
      "source": [
        "## Output of the code\n",
        "class DNNet_res(nn.Module):\n",
        "    def __init__(self):\n",
        "        super(DNNet_res, self).__init__()\n",
        "        self.layer1 = nn.Sequential(\n",
        "            nn.Conv2d(3, 64, kernel_size=9, stride=1, padding=0),\n",
        "            nn.ReLU())\n",
        "        self.layer2 = nn.Sequential(\n",
        "            nn.Conv2d(64, 32, kernel_size=5, stride=1, padding=0),\n",
        "            nn.ReLU())\n",
        "        self.layer3 = nn.Sequential(\n",
        "            nn.Conv2d(32, 3, kernel_size=5, stride=1, padding=0),\n",
        "            nn.ReLU())\n",
        "        self.res_layer1 = nn.Sequential(nn.Conv2d(32, 32, kernel_size=3, stride=1, padding=1),\n",
        "            nn.ReLU())\n",
        "        # nn.Conv2d(32, 32, kernel_size=3, stride=1, padding=1)\n",
        "        self.res_layer2 = nn.Sequential(nn.Conv2d(32, 32, kernel_size=3, stride=1, padding=1))\n",
        "        self.rel_layer = nn.Sequential(nn.ReLU())\n",
        "\n",
        "    ## forward pass\n",
        "    def forward(self, x):\n",
        "        out = self.layer1(x)\n",
        "        out = self.layer2(out)\n",
        "        res1 = self.res_layer1(out)\n",
        "        res2 = self.res_layer2(res1)\n",
        "        out = self.rel_layer(out+res2)\n",
        "        res3 = self.res_layer1(out)\n",
        "        res4 = self.res_layer2(res3)\n",
        "        out = self.rel_layer(out+res4)\n",
        "        res5 = self.res_layer1(out)\n",
        "        res6 = self.res_layer2(res5)\n",
        "        out = self.rel_layer(out+res6)\n",
        "        out = self.layer3(out)\n",
        "        return out"
      ],
      "execution_count": 0,
      "outputs": []
    },
    {
      "cell_type": "code",
      "metadata": {
        "id": "XrxiTdDSfySm",
        "colab_type": "code",
        "colab": {}
      },
      "source": [
        "## define model\n",
        "\n",
        "model = DNNet()\n",
        "model = model.double()\n",
        "model.to(device)\n",
        "\n",
        "# Loss and optimizer\n",
        "criterion = nn.MSELoss()\n",
        "optimizer = torch.optim.Adam(model.parameters(), lr=0.001)"
      ],
      "execution_count": 0,
      "outputs": []
    },
    {
      "cell_type": "code",
      "metadata": {
        "id": "Qr7E8xgnr_61",
        "colab_type": "code",
        "colab": {}
      },
      "source": [
        "## resned model\n",
        "model2 = DNNet_res()\n",
        "model2 = model2.double()\n",
        "model2.to(device)\n",
        "\n",
        "# model_dict = model2.state_dict()\n",
        "# model_dict.update(model.state_dict())\n",
        "# model2.load_state_dict(model_dict)\n",
        "\n",
        "criterion = nn.MSELoss()\n",
        "optimizer = torch.optim.Adam(model2.parameters(), lr=0.0001)"
      ],
      "execution_count": 0,
      "outputs": []
    },
    {
      "cell_type": "code",
      "metadata": {
        "id": "2ONQNl-usDAy",
        "colab_type": "code",
        "outputId": "f3bb6e38-3999-4a55-f1b9-73329e60edc8",
        "colab": {
          "base_uri": "https://localhost:8080/",
          "height": 34
        }
      },
      "source": [
        "model_weights = torch.load(\"/content/drive/My Drive/dn_resnet_200.pt\")\n",
        "model2.load_state_dict(model_weights)"
      ],
      "execution_count": 228,
      "outputs": [
        {
          "output_type": "execute_result",
          "data": {
            "text/plain": [
              "<All keys matched successfully>"
            ]
          },
          "metadata": {
            "tags": []
          },
          "execution_count": 228
        }
      ]
    },
    {
      "cell_type": "code",
      "metadata": {
        "id": "n7ubA_o8sDDa",
        "colab_type": "code",
        "outputId": "9de4ccc0-5151-42a1-e2d7-2df6c6bb0ee8",
        "colab": {
          "base_uri": "https://localhost:8080/",
          "height": 1000
        }
      },
      "source": [
        "import time\n",
        "# Train the model\n",
        "total_step = len(dataloader)\n",
        "step_loss_list = []\n",
        "train_loss_list = []\n",
        "val_loss_list = []\n",
        "num_epochs = 1000\n",
        "\n",
        "training_start_time = time.time()\n",
        "\n",
        "for epoch in range(num_epochs):\n",
        "    train_loss = 0\n",
        "    for i, batch in enumerate(dataloader):\n",
        "        step_start_time = time.time()\n",
        "        # Run the forward pass\n",
        "        images = batch['noisy_image'].to(device)\n",
        "        labels = batch['original_image'].to(device)\n",
        "        outputs = model2(images)\n",
        "        # print(outputs.shape,labels.shape)\n",
        "        loss = criterion(outputs, labels)\n",
        "        step_loss_list.append(loss.item())\n",
        "        train_loss+=loss.item()\n",
        "\n",
        "        # Backprop and perform Adam optimisation\n",
        "        optimizer.zero_grad()\n",
        "        loss.backward()\n",
        "        optimizer.step()\n",
        "\n",
        "        # time_per_step = time.time() - step_start_time\n",
        "\n",
        "        # if (i + 1) % 10 == 0:\n",
        "          # print(i)\n",
        "            # print('Epoch [{}/{}], Step [{}/{}], Loss: {:.4f}, Time_per_step: {:.2f}s'\n",
        "                  # .format(epoch + 1, num_epochs, i + 1, total_step, loss.item(),time_per_step))\n",
        "\n",
        "    # print(\"Training loss = {:.2f} at Epoch {}\".format(train_loss / total_step,epoch+1))\n",
        "    \n",
        "    train_loss_list.append(train_loss)\n",
        "    #At the end of the epoch, do a pass on the validation set\n",
        "    total_val_loss = 0\n",
        "    for i, batch in enumerate(valloader):\n",
        "        images = batch['noisy_image'].to(device)\n",
        "        labels = batch['original_image'].to(device)\n",
        "        # #Wrap tensors in Variables\n",
        "        # inputs, labels = Variable(inputs), Variable(labels)\n",
        "        \n",
        "        #Forward pass\n",
        "        val_outputs = model2(images)\n",
        "        val_loss = criterion(val_outputs, labels)\n",
        "        total_val_loss += val_loss.item()\n",
        "    \n",
        "    val_loss_list.append(total_val_loss)\n",
        "    print(\"Training loss = {:.4f} || Validation loss = {:.4f} at Epoch {}\".format(train_loss / total_step,total_val_loss / len(valloader),epoch+1))\n",
        "\n",
        "    if (epoch+1)%50 == 0:\n",
        "      # torch.save(model.state_dict(), \"/content/drive/My Drive/nac_bsd_dn_resnet_{}.pt\".format(epoch+1))\n",
        "      loss_dict = {\"train_loss\":train_loss_list,\"val_loss\":val_loss_list}\n",
        "      # output = open('/content/drive/My Drive/nac_bsd_dn_resnet_{}.pkl'.format(epoch+1), 'wb')\n",
        "      # pickle.dump(loss_dict, output)\n",
        "      # output.close()  \n",
        "\n",
        "print(\"Training finished, took {:.2f}s\".format(time.time() - training_start_time))"
      ],
      "execution_count": 236,
      "outputs": [
        {
          "output_type": "stream",
          "text": [
            "Training loss = 214.3865 || Validation loss = 279.4498 at Epoch 1\n",
            "Training loss = 182.8965 || Validation loss = 299.6533 at Epoch 2\n",
            "Training loss = 192.2260 || Validation loss = 219.7187 at Epoch 3\n",
            "Training loss = 158.8138 || Validation loss = 265.1544 at Epoch 4\n",
            "Training loss = 177.1780 || Validation loss = 258.6014 at Epoch 5\n",
            "Training loss = 173.3164 || Validation loss = 275.6023 at Epoch 6\n",
            "Training loss = 152.9936 || Validation loss = 183.5387 at Epoch 7\n",
            "Training loss = 203.9799 || Validation loss = 234.2238 at Epoch 8\n",
            "Training loss = 214.5416 || Validation loss = 139.4678 at Epoch 9\n",
            "Training loss = 169.9203 || Validation loss = 172.8578 at Epoch 10\n",
            "Training loss = 222.9983 || Validation loss = 251.9817 at Epoch 11\n",
            "Training loss = 221.0052 || Validation loss = 291.5986 at Epoch 12\n",
            "Training loss = 196.2627 || Validation loss = 265.7325 at Epoch 13\n",
            "Training loss = 162.5286 || Validation loss = 206.1296 at Epoch 14\n",
            "Training loss = 209.9274 || Validation loss = 107.6144 at Epoch 15\n",
            "Training loss = 206.6065 || Validation loss = 223.6146 at Epoch 16\n",
            "Training loss = 199.4795 || Validation loss = 163.1058 at Epoch 17\n",
            "Training loss = 178.0178 || Validation loss = 195.1475 at Epoch 18\n",
            "Training loss = 190.2324 || Validation loss = 121.8020 at Epoch 19\n",
            "Training loss = 188.6294 || Validation loss = 114.8250 at Epoch 20\n",
            "Training loss = 143.7419 || Validation loss = 242.2379 at Epoch 21\n",
            "Training loss = 174.6386 || Validation loss = 142.9919 at Epoch 22\n",
            "Training loss = 152.6131 || Validation loss = 193.5880 at Epoch 23\n",
            "Training loss = 187.4228 || Validation loss = 157.5496 at Epoch 24\n",
            "Training loss = 189.7950 || Validation loss = 228.7723 at Epoch 25\n",
            "Training loss = 159.0697 || Validation loss = 215.9023 at Epoch 26\n",
            "Training loss = 164.9493 || Validation loss = 190.8896 at Epoch 27\n",
            "Training loss = 151.6752 || Validation loss = 270.3440 at Epoch 28\n",
            "Training loss = 166.5888 || Validation loss = 176.1485 at Epoch 29\n",
            "Training loss = 176.6101 || Validation loss = 308.0946 at Epoch 30\n",
            "Training loss = 183.5975 || Validation loss = 255.6610 at Epoch 31\n",
            "Training loss = 159.0746 || Validation loss = 180.0677 at Epoch 32\n",
            "Training loss = 203.3745 || Validation loss = 130.0190 at Epoch 33\n",
            "Training loss = 169.2271 || Validation loss = 223.3188 at Epoch 34\n",
            "Training loss = 198.3853 || Validation loss = 329.4586 at Epoch 35\n",
            "Training loss = 138.9051 || Validation loss = 168.9111 at Epoch 36\n",
            "Training loss = 160.9878 || Validation loss = 302.7548 at Epoch 37\n",
            "Training loss = 165.8400 || Validation loss = 272.2975 at Epoch 38\n",
            "Training loss = 146.9551 || Validation loss = 198.9593 at Epoch 39\n",
            "Training loss = 211.9035 || Validation loss = 235.4902 at Epoch 40\n",
            "Training loss = 173.4641 || Validation loss = 199.2220 at Epoch 41\n",
            "Training loss = 158.0481 || Validation loss = 129.5291 at Epoch 42\n",
            "Training loss = 185.7025 || Validation loss = 257.9477 at Epoch 43\n",
            "Training loss = 167.8181 || Validation loss = 183.8184 at Epoch 44\n",
            "Training loss = 166.9140 || Validation loss = 226.7910 at Epoch 45\n",
            "Training loss = 137.1620 || Validation loss = 205.9868 at Epoch 46\n",
            "Training loss = 152.0372 || Validation loss = 247.1807 at Epoch 47\n",
            "Training loss = 156.0372 || Validation loss = 314.2995 at Epoch 48\n",
            "Training loss = 196.9128 || Validation loss = 221.2304 at Epoch 49\n",
            "Training loss = 185.2198 || Validation loss = 290.4928 at Epoch 50\n",
            "Training loss = 184.3139 || Validation loss = 185.6554 at Epoch 51\n",
            "Training loss = 200.5730 || Validation loss = 223.0002 at Epoch 52\n",
            "Training loss = 203.9454 || Validation loss = 211.8339 at Epoch 53\n",
            "Training loss = 183.0603 || Validation loss = 209.8003 at Epoch 54\n",
            "Training loss = 171.6487 || Validation loss = 154.9580 at Epoch 55\n",
            "Training loss = 213.6129 || Validation loss = 148.3308 at Epoch 56\n",
            "Training loss = 171.1792 || Validation loss = 143.6863 at Epoch 57\n",
            "Training loss = 174.3234 || Validation loss = 130.1623 at Epoch 58\n",
            "Training loss = 191.0592 || Validation loss = 276.8671 at Epoch 59\n",
            "Training loss = 156.4758 || Validation loss = 159.0677 at Epoch 60\n",
            "Training loss = 138.1939 || Validation loss = 218.1291 at Epoch 61\n",
            "Training loss = 200.0263 || Validation loss = 225.8415 at Epoch 62\n",
            "Training loss = 187.8057 || Validation loss = 171.5988 at Epoch 63\n",
            "Training loss = 174.1590 || Validation loss = 274.6933 at Epoch 64\n",
            "Training loss = 135.7833 || Validation loss = 180.6170 at Epoch 65\n",
            "Training loss = 186.5517 || Validation loss = 175.3582 at Epoch 66\n",
            "Training loss = 163.3916 || Validation loss = 181.9365 at Epoch 67\n",
            "Training loss = 131.4738 || Validation loss = 258.1127 at Epoch 68\n",
            "Training loss = 196.9546 || Validation loss = 151.4147 at Epoch 69\n",
            "Training loss = 187.4378 || Validation loss = 219.7911 at Epoch 70\n",
            "Training loss = 174.5926 || Validation loss = 145.6785 at Epoch 71\n",
            "Training loss = 170.3984 || Validation loss = 164.2827 at Epoch 72\n",
            "Training loss = 194.3358 || Validation loss = 168.6167 at Epoch 73\n",
            "Training loss = 151.5396 || Validation loss = 161.5698 at Epoch 74\n",
            "Training loss = 183.4727 || Validation loss = 195.3112 at Epoch 75\n",
            "Training loss = 151.6663 || Validation loss = 214.9475 at Epoch 76\n",
            "Training loss = 132.1234 || Validation loss = 162.9812 at Epoch 77\n",
            "Training loss = 146.9779 || Validation loss = 258.5964 at Epoch 78\n",
            "Training loss = 194.7099 || Validation loss = 121.5881 at Epoch 79\n",
            "Training loss = 185.3293 || Validation loss = 271.0004 at Epoch 80\n",
            "Training loss = 161.7610 || Validation loss = 128.1073 at Epoch 81\n",
            "Training loss = 127.6611 || Validation loss = 165.4970 at Epoch 82\n",
            "Training loss = 180.8035 || Validation loss = 188.1407 at Epoch 83\n",
            "Training loss = 140.5428 || Validation loss = 255.1453 at Epoch 84\n",
            "Training loss = 163.2162 || Validation loss = 146.7271 at Epoch 85\n",
            "Training loss = 149.8975 || Validation loss = 186.0403 at Epoch 86\n",
            "Training loss = 214.7851 || Validation loss = 152.1866 at Epoch 87\n",
            "Training loss = 219.5703 || Validation loss = 137.4948 at Epoch 88\n",
            "Training loss = 189.9345 || Validation loss = 282.6024 at Epoch 89\n",
            "Training loss = 168.5809 || Validation loss = 187.1324 at Epoch 90\n",
            "Training loss = 147.0811 || Validation loss = 170.9096 at Epoch 91\n",
            "Training loss = 178.0827 || Validation loss = 170.2683 at Epoch 92\n",
            "Training loss = 177.3193 || Validation loss = 186.3967 at Epoch 93\n",
            "Training loss = 149.4124 || Validation loss = 299.8058 at Epoch 94\n",
            "Training loss = 176.4591 || Validation loss = 293.4749 at Epoch 95\n",
            "Training loss = 172.4846 || Validation loss = 311.2644 at Epoch 96\n",
            "Training loss = 162.1535 || Validation loss = 202.2911 at Epoch 97\n",
            "Training loss = 204.2222 || Validation loss = 283.1560 at Epoch 98\n",
            "Training loss = 181.9830 || Validation loss = 285.3347 at Epoch 99\n",
            "Training loss = 178.4258 || Validation loss = 253.7774 at Epoch 100\n",
            "Training loss = 156.7820 || Validation loss = 211.4268 at Epoch 101\n",
            "Training loss = 157.3200 || Validation loss = 204.5767 at Epoch 102\n",
            "Training loss = 233.6347 || Validation loss = 287.9664 at Epoch 103\n",
            "Training loss = 190.0296 || Validation loss = 167.6378 at Epoch 104\n",
            "Training loss = 148.8412 || Validation loss = 161.6295 at Epoch 105\n",
            "Training loss = 147.1591 || Validation loss = 237.2011 at Epoch 106\n",
            "Training loss = 172.6248 || Validation loss = 198.4481 at Epoch 107\n",
            "Training loss = 188.3856 || Validation loss = 212.9348 at Epoch 108\n",
            "Training loss = 151.8920 || Validation loss = 221.6518 at Epoch 109\n",
            "Training loss = 189.8625 || Validation loss = 173.2237 at Epoch 110\n",
            "Training loss = 234.6133 || Validation loss = 160.5274 at Epoch 111\n",
            "Training loss = 185.4279 || Validation loss = 230.4970 at Epoch 112\n",
            "Training loss = 233.8683 || Validation loss = 267.3073 at Epoch 113\n",
            "Training loss = 150.5980 || Validation loss = 137.9125 at Epoch 114\n",
            "Training loss = 174.1882 || Validation loss = 117.1566 at Epoch 115\n",
            "Training loss = 165.3341 || Validation loss = 260.2131 at Epoch 116\n",
            "Training loss = 135.5790 || Validation loss = 187.9509 at Epoch 117\n",
            "Training loss = 140.0147 || Validation loss = 164.6541 at Epoch 118\n",
            "Training loss = 191.1018 || Validation loss = 158.4262 at Epoch 119\n",
            "Training loss = 179.8698 || Validation loss = 254.4198 at Epoch 120\n",
            "Training loss = 163.3234 || Validation loss = 273.4409 at Epoch 121\n",
            "Training loss = 180.4208 || Validation loss = 305.6438 at Epoch 122\n",
            "Training loss = 141.5741 || Validation loss = 207.0807 at Epoch 123\n",
            "Training loss = 169.4624 || Validation loss = 103.5002 at Epoch 124\n",
            "Training loss = 159.6900 || Validation loss = 188.1568 at Epoch 125\n",
            "Training loss = 146.2132 || Validation loss = 142.1981 at Epoch 126\n",
            "Training loss = 164.1039 || Validation loss = 201.2745 at Epoch 127\n",
            "Training loss = 160.9277 || Validation loss = 269.0913 at Epoch 128\n",
            "Training loss = 172.8031 || Validation loss = 202.4280 at Epoch 129\n",
            "Training loss = 160.2849 || Validation loss = 179.8293 at Epoch 130\n",
            "Training loss = 152.9022 || Validation loss = 226.7481 at Epoch 131\n",
            "Training loss = 168.2171 || Validation loss = 276.0031 at Epoch 132\n",
            "Training loss = 156.9883 || Validation loss = 280.5002 at Epoch 133\n",
            "Training loss = 204.9702 || Validation loss = 146.0017 at Epoch 134\n",
            "Training loss = 154.8248 || Validation loss = 194.7604 at Epoch 135\n",
            "Training loss = 199.6275 || Validation loss = 168.8210 at Epoch 136\n",
            "Training loss = 165.7915 || Validation loss = 193.7387 at Epoch 137\n",
            "Training loss = 169.4104 || Validation loss = 157.5118 at Epoch 138\n",
            "Training loss = 168.6451 || Validation loss = 231.5518 at Epoch 139\n",
            "Training loss = 152.2042 || Validation loss = 147.9233 at Epoch 140\n",
            "Training loss = 202.6027 || Validation loss = 168.9064 at Epoch 141\n",
            "Training loss = 170.1884 || Validation loss = 165.6947 at Epoch 142\n",
            "Training loss = 119.7170 || Validation loss = 147.3356 at Epoch 143\n",
            "Training loss = 183.0245 || Validation loss = 245.0299 at Epoch 144\n",
            "Training loss = 195.1773 || Validation loss = 208.8946 at Epoch 145\n",
            "Training loss = 153.6010 || Validation loss = 225.3365 at Epoch 146\n",
            "Training loss = 194.1493 || Validation loss = 177.6002 at Epoch 147\n",
            "Training loss = 164.1293 || Validation loss = 157.9169 at Epoch 148\n",
            "Training loss = 150.0557 || Validation loss = 220.9525 at Epoch 149\n",
            "Training loss = 184.0484 || Validation loss = 198.1492 at Epoch 150\n",
            "Training loss = 181.0519 || Validation loss = 249.8906 at Epoch 151\n",
            "Training loss = 213.3817 || Validation loss = 275.6283 at Epoch 152\n",
            "Training loss = 217.9397 || Validation loss = 169.0066 at Epoch 153\n",
            "Training loss = 176.4580 || Validation loss = 176.1210 at Epoch 154\n",
            "Training loss = 151.4917 || Validation loss = 182.6664 at Epoch 155\n",
            "Training loss = 178.4114 || Validation loss = 157.6227 at Epoch 156\n",
            "Training loss = 139.9303 || Validation loss = 218.4923 at Epoch 157\n",
            "Training loss = 167.2905 || Validation loss = 257.5407 at Epoch 158\n",
            "Training loss = 129.9926 || Validation loss = 192.7715 at Epoch 159\n",
            "Training loss = 196.3216 || Validation loss = 197.9285 at Epoch 160\n",
            "Training loss = 154.3075 || Validation loss = 195.3668 at Epoch 161\n",
            "Training loss = 156.1082 || Validation loss = 258.8111 at Epoch 162\n",
            "Training loss = 181.0762 || Validation loss = 136.9606 at Epoch 163\n",
            "Training loss = 192.9429 || Validation loss = 100.6266 at Epoch 164\n",
            "Training loss = 176.7534 || Validation loss = 244.1231 at Epoch 165\n",
            "Training loss = 156.4933 || Validation loss = 257.5921 at Epoch 166\n",
            "Training loss = 179.0555 || Validation loss = 152.9924 at Epoch 167\n",
            "Training loss = 193.1929 || Validation loss = 175.0872 at Epoch 168\n",
            "Training loss = 143.5170 || Validation loss = 218.1273 at Epoch 169\n",
            "Training loss = 161.7082 || Validation loss = 198.5265 at Epoch 170\n",
            "Training loss = 138.2834 || Validation loss = 288.1468 at Epoch 171\n",
            "Training loss = 170.7743 || Validation loss = 325.3633 at Epoch 172\n",
            "Training loss = 164.1143 || Validation loss = 288.1742 at Epoch 173\n",
            "Training loss = 174.5733 || Validation loss = 212.8831 at Epoch 174\n",
            "Training loss = 226.5551 || Validation loss = 147.0337 at Epoch 175\n",
            "Training loss = 145.7417 || Validation loss = 197.4548 at Epoch 176\n",
            "Training loss = 137.9902 || Validation loss = 118.8577 at Epoch 177\n",
            "Training loss = 212.2033 || Validation loss = 150.1248 at Epoch 178\n",
            "Training loss = 148.3495 || Validation loss = 136.2136 at Epoch 179\n",
            "Training loss = 187.4742 || Validation loss = 233.1085 at Epoch 180\n",
            "Training loss = 166.6241 || Validation loss = 274.2937 at Epoch 181\n",
            "Training loss = 137.3075 || Validation loss = 215.9700 at Epoch 182\n",
            "Training loss = 152.7863 || Validation loss = 238.9877 at Epoch 183\n",
            "Training loss = 161.1706 || Validation loss = 172.2540 at Epoch 184\n",
            "Training loss = 172.2063 || Validation loss = 228.9471 at Epoch 185\n",
            "Training loss = 142.3932 || Validation loss = 276.3579 at Epoch 186\n",
            "Training loss = 196.4969 || Validation loss = 159.7564 at Epoch 187\n",
            "Training loss = 165.7279 || Validation loss = 211.9211 at Epoch 188\n",
            "Training loss = 139.1947 || Validation loss = 131.7248 at Epoch 189\n",
            "Training loss = 148.3021 || Validation loss = 235.9130 at Epoch 190\n",
            "Training loss = 157.5827 || Validation loss = 179.5034 at Epoch 191\n",
            "Training loss = 191.1547 || Validation loss = 152.7113 at Epoch 192\n",
            "Training loss = 197.9259 || Validation loss = 125.8543 at Epoch 193\n",
            "Training loss = 157.4769 || Validation loss = 129.0023 at Epoch 194\n",
            "Training loss = 160.2499 || Validation loss = 150.5697 at Epoch 195\n",
            "Training loss = 205.8471 || Validation loss = 263.9422 at Epoch 196\n",
            "Training loss = 173.0444 || Validation loss = 255.8487 at Epoch 197\n",
            "Training loss = 177.6851 || Validation loss = 179.7703 at Epoch 198\n",
            "Training loss = 175.9294 || Validation loss = 135.5570 at Epoch 199\n",
            "Training loss = 151.0078 || Validation loss = 158.1505 at Epoch 200\n",
            "Training loss = 176.0309 || Validation loss = 174.1818 at Epoch 201\n",
            "Training loss = 139.7434 || Validation loss = 182.7217 at Epoch 202\n",
            "Training loss = 140.3981 || Validation loss = 166.1405 at Epoch 203\n",
            "Training loss = 168.8957 || Validation loss = 209.1304 at Epoch 204\n",
            "Training loss = 148.5516 || Validation loss = 171.0730 at Epoch 205\n",
            "Training loss = 193.6995 || Validation loss = 233.3839 at Epoch 206\n",
            "Training loss = 188.4996 || Validation loss = 237.5985 at Epoch 207\n",
            "Training loss = 177.0753 || Validation loss = 228.9558 at Epoch 208\n",
            "Training loss = 163.0136 || Validation loss = 286.2762 at Epoch 209\n",
            "Training loss = 176.1460 || Validation loss = 149.8070 at Epoch 210\n",
            "Training loss = 163.6778 || Validation loss = 191.8774 at Epoch 211\n",
            "Training loss = 171.4846 || Validation loss = 181.0045 at Epoch 212\n",
            "Training loss = 168.3299 || Validation loss = 182.1564 at Epoch 213\n",
            "Training loss = 158.0160 || Validation loss = 225.2822 at Epoch 214\n",
            "Training loss = 113.3266 || Validation loss = 261.5154 at Epoch 215\n",
            "Training loss = 120.2631 || Validation loss = 177.6771 at Epoch 216\n",
            "Training loss = 164.0259 || Validation loss = 245.0275 at Epoch 217\n",
            "Training loss = 143.8129 || Validation loss = 153.1886 at Epoch 218\n",
            "Training loss = 165.7749 || Validation loss = 194.5558 at Epoch 219\n",
            "Training loss = 162.9850 || Validation loss = 229.7872 at Epoch 220\n",
            "Training loss = 196.2499 || Validation loss = 159.4513 at Epoch 221\n",
            "Training loss = 181.2732 || Validation loss = 229.9211 at Epoch 222\n",
            "Training loss = 196.1610 || Validation loss = 181.4766 at Epoch 223\n",
            "Training loss = 200.4766 || Validation loss = 189.0398 at Epoch 224\n",
            "Training loss = 152.2146 || Validation loss = 177.7669 at Epoch 225\n",
            "Training loss = 162.4881 || Validation loss = 144.9387 at Epoch 226\n",
            "Training loss = 167.0388 || Validation loss = 192.3149 at Epoch 227\n",
            "Training loss = 168.2965 || Validation loss = 193.8566 at Epoch 228\n",
            "Training loss = 159.0515 || Validation loss = 123.3379 at Epoch 229\n",
            "Training loss = 144.0430 || Validation loss = 149.5442 at Epoch 230\n",
            "Training loss = 151.4293 || Validation loss = 219.6717 at Epoch 231\n",
            "Training loss = 167.4187 || Validation loss = 174.4850 at Epoch 232\n",
            "Training loss = 189.7009 || Validation loss = 223.3385 at Epoch 233\n",
            "Training loss = 179.2269 || Validation loss = 287.9034 at Epoch 234\n",
            "Training loss = 165.3612 || Validation loss = 240.9668 at Epoch 235\n",
            "Training loss = 167.2613 || Validation loss = 142.2000 at Epoch 236\n",
            "Training loss = 195.9415 || Validation loss = 153.2264 at Epoch 237\n",
            "Training loss = 125.1570 || Validation loss = 178.0575 at Epoch 238\n",
            "Training loss = 161.1266 || Validation loss = 215.2622 at Epoch 239\n",
            "Training loss = 163.0074 || Validation loss = 260.9673 at Epoch 240\n",
            "Training loss = 140.5745 || Validation loss = 206.5567 at Epoch 241\n",
            "Training loss = 135.0056 || Validation loss = 232.2516 at Epoch 242\n",
            "Training loss = 189.3657 || Validation loss = 182.7732 at Epoch 243\n",
            "Training loss = 143.4028 || Validation loss = 143.5133 at Epoch 244\n",
            "Training loss = 154.0567 || Validation loss = 210.9824 at Epoch 245\n",
            "Training loss = 195.3947 || Validation loss = 146.4134 at Epoch 246\n",
            "Training loss = 151.9807 || Validation loss = 130.5105 at Epoch 247\n",
            "Training loss = 158.2849 || Validation loss = 183.0505 at Epoch 248\n",
            "Training loss = 152.4734 || Validation loss = 120.3153 at Epoch 249\n",
            "Training loss = 138.8295 || Validation loss = 235.5487 at Epoch 250\n",
            "Training loss = 165.6739 || Validation loss = 147.3593 at Epoch 251\n",
            "Training loss = 126.5611 || Validation loss = 203.1980 at Epoch 252\n",
            "Training loss = 155.9864 || Validation loss = 160.4018 at Epoch 253\n",
            "Training loss = 162.0002 || Validation loss = 191.4633 at Epoch 254\n",
            "Training loss = 151.1773 || Validation loss = 178.7666 at Epoch 255\n",
            "Training loss = 156.3179 || Validation loss = 265.4825 at Epoch 256\n",
            "Training loss = 152.4290 || Validation loss = 142.9233 at Epoch 257\n",
            "Training loss = 168.4978 || Validation loss = 267.3860 at Epoch 258\n",
            "Training loss = 136.1174 || Validation loss = 286.0976 at Epoch 259\n",
            "Training loss = 166.5254 || Validation loss = 142.1882 at Epoch 260\n",
            "Training loss = 144.4665 || Validation loss = 142.2129 at Epoch 261\n",
            "Training loss = 139.2181 || Validation loss = 212.7841 at Epoch 262\n",
            "Training loss = 185.8051 || Validation loss = 138.1517 at Epoch 263\n",
            "Training loss = 208.6619 || Validation loss = 273.9156 at Epoch 264\n",
            "Training loss = 175.6212 || Validation loss = 197.0469 at Epoch 265\n",
            "Training loss = 153.1140 || Validation loss = 304.2437 at Epoch 266\n",
            "Training loss = 152.0493 || Validation loss = 167.5465 at Epoch 267\n",
            "Training loss = 176.3120 || Validation loss = 128.0615 at Epoch 268\n",
            "Training loss = 197.6083 || Validation loss = 168.8891 at Epoch 269\n",
            "Training loss = 207.0997 || Validation loss = 149.9746 at Epoch 270\n",
            "Training loss = 147.3642 || Validation loss = 219.7794 at Epoch 271\n",
            "Training loss = 159.5640 || Validation loss = 123.4684 at Epoch 272\n",
            "Training loss = 168.5596 || Validation loss = 149.3749 at Epoch 273\n"
          ],
          "name": "stdout"
        },
        {
          "output_type": "error",
          "ename": "KeyboardInterrupt",
          "evalue": "ignored",
          "traceback": [
            "\u001b[0;31m---------------------------------------------------------------------------\u001b[0m",
            "\u001b[0;31mKeyboardInterrupt\u001b[0m                         Traceback (most recent call last)",
            "\u001b[0;32m<ipython-input-236-35c0978a4b3c>\u001b[0m in \u001b[0;36m<module>\u001b[0;34m()\u001b[0m\n\u001b[1;32m     11\u001b[0m \u001b[0;32mfor\u001b[0m \u001b[0mepoch\u001b[0m \u001b[0;32min\u001b[0m \u001b[0mrange\u001b[0m\u001b[0;34m(\u001b[0m\u001b[0mnum_epochs\u001b[0m\u001b[0;34m)\u001b[0m\u001b[0;34m:\u001b[0m\u001b[0;34m\u001b[0m\u001b[0;34m\u001b[0m\u001b[0m\n\u001b[1;32m     12\u001b[0m     \u001b[0mtrain_loss\u001b[0m \u001b[0;34m=\u001b[0m \u001b[0;36m0\u001b[0m\u001b[0;34m\u001b[0m\u001b[0;34m\u001b[0m\u001b[0m\n\u001b[0;32m---> 13\u001b[0;31m     \u001b[0;32mfor\u001b[0m \u001b[0mi\u001b[0m\u001b[0;34m,\u001b[0m \u001b[0mbatch\u001b[0m \u001b[0;32min\u001b[0m \u001b[0menumerate\u001b[0m\u001b[0;34m(\u001b[0m\u001b[0mdataloader\u001b[0m\u001b[0;34m)\u001b[0m\u001b[0;34m:\u001b[0m\u001b[0;34m\u001b[0m\u001b[0;34m\u001b[0m\u001b[0m\n\u001b[0m\u001b[1;32m     14\u001b[0m         \u001b[0mstep_start_time\u001b[0m \u001b[0;34m=\u001b[0m \u001b[0mtime\u001b[0m\u001b[0;34m.\u001b[0m\u001b[0mtime\u001b[0m\u001b[0;34m(\u001b[0m\u001b[0;34m)\u001b[0m\u001b[0;34m\u001b[0m\u001b[0;34m\u001b[0m\u001b[0m\n\u001b[1;32m     15\u001b[0m         \u001b[0;31m# Run the forward pass\u001b[0m\u001b[0;34m\u001b[0m\u001b[0;34m\u001b[0m\u001b[0;34m\u001b[0m\u001b[0m\n",
            "\u001b[0;32m/usr/local/lib/python3.6/dist-packages/torch/utils/data/dataloader.py\u001b[0m in \u001b[0;36m__next__\u001b[0;34m(self)\u001b[0m\n\u001b[1;32m    802\u001b[0m \u001b[0;34m\u001b[0m\u001b[0m\n\u001b[1;32m    803\u001b[0m             \u001b[0;32massert\u001b[0m \u001b[0;32mnot\u001b[0m \u001b[0mself\u001b[0m\u001b[0;34m.\u001b[0m\u001b[0m_shutdown\u001b[0m \u001b[0;32mand\u001b[0m \u001b[0mself\u001b[0m\u001b[0;34m.\u001b[0m\u001b[0m_tasks_outstanding\u001b[0m \u001b[0;34m>\u001b[0m \u001b[0;36m0\u001b[0m\u001b[0;34m\u001b[0m\u001b[0;34m\u001b[0m\u001b[0m\n\u001b[0;32m--> 804\u001b[0;31m             \u001b[0midx\u001b[0m\u001b[0;34m,\u001b[0m \u001b[0mdata\u001b[0m \u001b[0;34m=\u001b[0m \u001b[0mself\u001b[0m\u001b[0;34m.\u001b[0m\u001b[0m_get_data\u001b[0m\u001b[0;34m(\u001b[0m\u001b[0;34m)\u001b[0m\u001b[0;34m\u001b[0m\u001b[0;34m\u001b[0m\u001b[0m\n\u001b[0m\u001b[1;32m    805\u001b[0m             \u001b[0mself\u001b[0m\u001b[0;34m.\u001b[0m\u001b[0m_tasks_outstanding\u001b[0m \u001b[0;34m-=\u001b[0m \u001b[0;36m1\u001b[0m\u001b[0;34m\u001b[0m\u001b[0;34m\u001b[0m\u001b[0m\n\u001b[1;32m    806\u001b[0m \u001b[0;34m\u001b[0m\u001b[0m\n",
            "\u001b[0;32m/usr/local/lib/python3.6/dist-packages/torch/utils/data/dataloader.py\u001b[0m in \u001b[0;36m_get_data\u001b[0;34m(self)\u001b[0m\n\u001b[1;32m    769\u001b[0m         \u001b[0;32melse\u001b[0m\u001b[0;34m:\u001b[0m\u001b[0;34m\u001b[0m\u001b[0;34m\u001b[0m\u001b[0m\n\u001b[1;32m    770\u001b[0m             \u001b[0;32mwhile\u001b[0m \u001b[0;32mTrue\u001b[0m\u001b[0;34m:\u001b[0m\u001b[0;34m\u001b[0m\u001b[0;34m\u001b[0m\u001b[0m\n\u001b[0;32m--> 771\u001b[0;31m                 \u001b[0msuccess\u001b[0m\u001b[0;34m,\u001b[0m \u001b[0mdata\u001b[0m \u001b[0;34m=\u001b[0m \u001b[0mself\u001b[0m\u001b[0;34m.\u001b[0m\u001b[0m_try_get_data\u001b[0m\u001b[0;34m(\u001b[0m\u001b[0;34m)\u001b[0m\u001b[0;34m\u001b[0m\u001b[0;34m\u001b[0m\u001b[0m\n\u001b[0m\u001b[1;32m    772\u001b[0m                 \u001b[0;32mif\u001b[0m \u001b[0msuccess\u001b[0m\u001b[0;34m:\u001b[0m\u001b[0;34m\u001b[0m\u001b[0;34m\u001b[0m\u001b[0m\n\u001b[1;32m    773\u001b[0m                     \u001b[0;32mreturn\u001b[0m \u001b[0mdata\u001b[0m\u001b[0;34m\u001b[0m\u001b[0;34m\u001b[0m\u001b[0m\n",
            "\u001b[0;32m/usr/local/lib/python3.6/dist-packages/torch/utils/data/dataloader.py\u001b[0m in \u001b[0;36m_try_get_data\u001b[0;34m(self, timeout)\u001b[0m\n\u001b[1;32m    722\u001b[0m         \u001b[0;31m#   (bool: whether successfully get data, any: data if successful else None)\u001b[0m\u001b[0;34m\u001b[0m\u001b[0;34m\u001b[0m\u001b[0;34m\u001b[0m\u001b[0m\n\u001b[1;32m    723\u001b[0m         \u001b[0;32mtry\u001b[0m\u001b[0;34m:\u001b[0m\u001b[0;34m\u001b[0m\u001b[0;34m\u001b[0m\u001b[0m\n\u001b[0;32m--> 724\u001b[0;31m             \u001b[0mdata\u001b[0m \u001b[0;34m=\u001b[0m \u001b[0mself\u001b[0m\u001b[0;34m.\u001b[0m\u001b[0m_data_queue\u001b[0m\u001b[0;34m.\u001b[0m\u001b[0mget\u001b[0m\u001b[0;34m(\u001b[0m\u001b[0mtimeout\u001b[0m\u001b[0;34m=\u001b[0m\u001b[0mtimeout\u001b[0m\u001b[0;34m)\u001b[0m\u001b[0;34m\u001b[0m\u001b[0;34m\u001b[0m\u001b[0m\n\u001b[0m\u001b[1;32m    725\u001b[0m             \u001b[0;32mreturn\u001b[0m \u001b[0;34m(\u001b[0m\u001b[0;32mTrue\u001b[0m\u001b[0;34m,\u001b[0m \u001b[0mdata\u001b[0m\u001b[0;34m)\u001b[0m\u001b[0;34m\u001b[0m\u001b[0;34m\u001b[0m\u001b[0m\n\u001b[1;32m    726\u001b[0m         \u001b[0;32mexcept\u001b[0m \u001b[0mException\u001b[0m \u001b[0;32mas\u001b[0m \u001b[0me\u001b[0m\u001b[0;34m:\u001b[0m\u001b[0;34m\u001b[0m\u001b[0;34m\u001b[0m\u001b[0m\n",
            "\u001b[0;32m/usr/lib/python3.6/multiprocessing/queues.py\u001b[0m in \u001b[0;36mget\u001b[0;34m(self, block, timeout)\u001b[0m\n\u001b[1;32m    102\u001b[0m                 \u001b[0;32mif\u001b[0m \u001b[0mblock\u001b[0m\u001b[0;34m:\u001b[0m\u001b[0;34m\u001b[0m\u001b[0;34m\u001b[0m\u001b[0m\n\u001b[1;32m    103\u001b[0m                     \u001b[0mtimeout\u001b[0m \u001b[0;34m=\u001b[0m \u001b[0mdeadline\u001b[0m \u001b[0;34m-\u001b[0m \u001b[0mtime\u001b[0m\u001b[0;34m.\u001b[0m\u001b[0mmonotonic\u001b[0m\u001b[0;34m(\u001b[0m\u001b[0;34m)\u001b[0m\u001b[0;34m\u001b[0m\u001b[0;34m\u001b[0m\u001b[0m\n\u001b[0;32m--> 104\u001b[0;31m                     \u001b[0;32mif\u001b[0m \u001b[0;32mnot\u001b[0m \u001b[0mself\u001b[0m\u001b[0;34m.\u001b[0m\u001b[0m_poll\u001b[0m\u001b[0;34m(\u001b[0m\u001b[0mtimeout\u001b[0m\u001b[0;34m)\u001b[0m\u001b[0;34m:\u001b[0m\u001b[0;34m\u001b[0m\u001b[0;34m\u001b[0m\u001b[0m\n\u001b[0m\u001b[1;32m    105\u001b[0m                         \u001b[0;32mraise\u001b[0m \u001b[0mEmpty\u001b[0m\u001b[0;34m\u001b[0m\u001b[0;34m\u001b[0m\u001b[0m\n\u001b[1;32m    106\u001b[0m                 \u001b[0;32melif\u001b[0m \u001b[0;32mnot\u001b[0m \u001b[0mself\u001b[0m\u001b[0;34m.\u001b[0m\u001b[0m_poll\u001b[0m\u001b[0;34m(\u001b[0m\u001b[0;34m)\u001b[0m\u001b[0;34m:\u001b[0m\u001b[0;34m\u001b[0m\u001b[0;34m\u001b[0m\u001b[0m\n",
            "\u001b[0;32m/usr/lib/python3.6/multiprocessing/connection.py\u001b[0m in \u001b[0;36mpoll\u001b[0;34m(self, timeout)\u001b[0m\n\u001b[1;32m    255\u001b[0m         \u001b[0mself\u001b[0m\u001b[0;34m.\u001b[0m\u001b[0m_check_closed\u001b[0m\u001b[0;34m(\u001b[0m\u001b[0;34m)\u001b[0m\u001b[0;34m\u001b[0m\u001b[0;34m\u001b[0m\u001b[0m\n\u001b[1;32m    256\u001b[0m         \u001b[0mself\u001b[0m\u001b[0;34m.\u001b[0m\u001b[0m_check_readable\u001b[0m\u001b[0;34m(\u001b[0m\u001b[0;34m)\u001b[0m\u001b[0;34m\u001b[0m\u001b[0;34m\u001b[0m\u001b[0m\n\u001b[0;32m--> 257\u001b[0;31m         \u001b[0;32mreturn\u001b[0m \u001b[0mself\u001b[0m\u001b[0;34m.\u001b[0m\u001b[0m_poll\u001b[0m\u001b[0;34m(\u001b[0m\u001b[0mtimeout\u001b[0m\u001b[0;34m)\u001b[0m\u001b[0;34m\u001b[0m\u001b[0;34m\u001b[0m\u001b[0m\n\u001b[0m\u001b[1;32m    258\u001b[0m \u001b[0;34m\u001b[0m\u001b[0m\n\u001b[1;32m    259\u001b[0m     \u001b[0;32mdef\u001b[0m \u001b[0m__enter__\u001b[0m\u001b[0;34m(\u001b[0m\u001b[0mself\u001b[0m\u001b[0;34m)\u001b[0m\u001b[0;34m:\u001b[0m\u001b[0;34m\u001b[0m\u001b[0;34m\u001b[0m\u001b[0m\n",
            "\u001b[0;32m/usr/lib/python3.6/multiprocessing/connection.py\u001b[0m in \u001b[0;36m_poll\u001b[0;34m(self, timeout)\u001b[0m\n\u001b[1;32m    412\u001b[0m \u001b[0;34m\u001b[0m\u001b[0m\n\u001b[1;32m    413\u001b[0m     \u001b[0;32mdef\u001b[0m \u001b[0m_poll\u001b[0m\u001b[0;34m(\u001b[0m\u001b[0mself\u001b[0m\u001b[0;34m,\u001b[0m \u001b[0mtimeout\u001b[0m\u001b[0;34m)\u001b[0m\u001b[0;34m:\u001b[0m\u001b[0;34m\u001b[0m\u001b[0;34m\u001b[0m\u001b[0m\n\u001b[0;32m--> 414\u001b[0;31m         \u001b[0mr\u001b[0m \u001b[0;34m=\u001b[0m \u001b[0mwait\u001b[0m\u001b[0;34m(\u001b[0m\u001b[0;34m[\u001b[0m\u001b[0mself\u001b[0m\u001b[0;34m]\u001b[0m\u001b[0;34m,\u001b[0m \u001b[0mtimeout\u001b[0m\u001b[0;34m)\u001b[0m\u001b[0;34m\u001b[0m\u001b[0;34m\u001b[0m\u001b[0m\n\u001b[0m\u001b[1;32m    415\u001b[0m         \u001b[0;32mreturn\u001b[0m \u001b[0mbool\u001b[0m\u001b[0;34m(\u001b[0m\u001b[0mr\u001b[0m\u001b[0;34m)\u001b[0m\u001b[0;34m\u001b[0m\u001b[0;34m\u001b[0m\u001b[0m\n\u001b[1;32m    416\u001b[0m \u001b[0;34m\u001b[0m\u001b[0m\n",
            "\u001b[0;32m/usr/lib/python3.6/multiprocessing/connection.py\u001b[0m in \u001b[0;36mwait\u001b[0;34m(object_list, timeout)\u001b[0m\n\u001b[1;32m    909\u001b[0m \u001b[0;34m\u001b[0m\u001b[0m\n\u001b[1;32m    910\u001b[0m             \u001b[0;32mwhile\u001b[0m \u001b[0;32mTrue\u001b[0m\u001b[0;34m:\u001b[0m\u001b[0;34m\u001b[0m\u001b[0;34m\u001b[0m\u001b[0m\n\u001b[0;32m--> 911\u001b[0;31m                 \u001b[0mready\u001b[0m \u001b[0;34m=\u001b[0m \u001b[0mselector\u001b[0m\u001b[0;34m.\u001b[0m\u001b[0mselect\u001b[0m\u001b[0;34m(\u001b[0m\u001b[0mtimeout\u001b[0m\u001b[0;34m)\u001b[0m\u001b[0;34m\u001b[0m\u001b[0;34m\u001b[0m\u001b[0m\n\u001b[0m\u001b[1;32m    912\u001b[0m                 \u001b[0;32mif\u001b[0m \u001b[0mready\u001b[0m\u001b[0;34m:\u001b[0m\u001b[0;34m\u001b[0m\u001b[0;34m\u001b[0m\u001b[0m\n\u001b[1;32m    913\u001b[0m                     \u001b[0;32mreturn\u001b[0m \u001b[0;34m[\u001b[0m\u001b[0mkey\u001b[0m\u001b[0;34m.\u001b[0m\u001b[0mfileobj\u001b[0m \u001b[0;32mfor\u001b[0m \u001b[0;34m(\u001b[0m\u001b[0mkey\u001b[0m\u001b[0;34m,\u001b[0m \u001b[0mevents\u001b[0m\u001b[0;34m)\u001b[0m \u001b[0;32min\u001b[0m \u001b[0mready\u001b[0m\u001b[0;34m]\u001b[0m\u001b[0;34m\u001b[0m\u001b[0;34m\u001b[0m\u001b[0m\n",
            "\u001b[0;32m/usr/lib/python3.6/selectors.py\u001b[0m in \u001b[0;36mselect\u001b[0;34m(self, timeout)\u001b[0m\n\u001b[1;32m    374\u001b[0m             \u001b[0mready\u001b[0m \u001b[0;34m=\u001b[0m \u001b[0;34m[\u001b[0m\u001b[0;34m]\u001b[0m\u001b[0;34m\u001b[0m\u001b[0;34m\u001b[0m\u001b[0m\n\u001b[1;32m    375\u001b[0m             \u001b[0;32mtry\u001b[0m\u001b[0;34m:\u001b[0m\u001b[0;34m\u001b[0m\u001b[0;34m\u001b[0m\u001b[0m\n\u001b[0;32m--> 376\u001b[0;31m                 \u001b[0mfd_event_list\u001b[0m \u001b[0;34m=\u001b[0m \u001b[0mself\u001b[0m\u001b[0;34m.\u001b[0m\u001b[0m_poll\u001b[0m\u001b[0;34m.\u001b[0m\u001b[0mpoll\u001b[0m\u001b[0;34m(\u001b[0m\u001b[0mtimeout\u001b[0m\u001b[0;34m)\u001b[0m\u001b[0;34m\u001b[0m\u001b[0;34m\u001b[0m\u001b[0m\n\u001b[0m\u001b[1;32m    377\u001b[0m             \u001b[0;32mexcept\u001b[0m \u001b[0mInterruptedError\u001b[0m\u001b[0;34m:\u001b[0m\u001b[0;34m\u001b[0m\u001b[0;34m\u001b[0m\u001b[0m\n\u001b[1;32m    378\u001b[0m                 \u001b[0;32mreturn\u001b[0m \u001b[0mready\u001b[0m\u001b[0;34m\u001b[0m\u001b[0;34m\u001b[0m\u001b[0m\n",
            "\u001b[0;31mKeyboardInterrupt\u001b[0m: "
          ]
        }
      ]
    },
    {
      "cell_type": "code",
      "metadata": {
        "id": "YfgfZjAYsDGO",
        "colab_type": "code",
        "outputId": "3a2c4b3f-4525-4ccc-9774-f1ae25518998",
        "colab": {
          "base_uri": "https://localhost:8080/",
          "height": 514
        }
      },
      "source": [
        "## test dataset \n",
        "# test_dataset = NoisyImageDataset(\"/content/test_data.csv\",\n",
        "                                #  \"/content/PolyU-Real-World-Noisy-Images-Dataset-master/CroppedImages\")\n",
        "\n",
        "\n",
        "# test_dataset = NoisyImageDataset(\"/content/test_data.csv\",\n",
        "#                                  \"/content/original/\")\n",
        "\n",
        "test_dataset = NoisyImageDataset(\"/content/train_data.csv\",\"/content/CBSD68-dataset-master/CBSD68\")\n",
        "\n",
        "sample = test_dataset[2]\n",
        "\n",
        "plt.imshow(sample[\"noisy_image\"].numpy().astype(\"uint8\").transpose((1,2,0)))\n",
        "plt.show()\n",
        "\n",
        "plt.imshow(sample[\"original_image\"].numpy().astype(\"uint8\").transpose((1,2,0)))\n",
        "plt.show()\n",
        "\n",
        "real, noisy = sample[\"original_image\"], sample[\"noisy_image\"]"
      ],
      "execution_count": 237,
      "outputs": [
        {
          "output_type": "display_data",
          "data": {
            "image/png": "[encoded data removed]",
            "text/plain": [
              "<Figure size 432x288 with 1 Axes>"
            ]
          },
          "metadata": {
            "tags": []
          }
        },
        {
          "output_type": "display_data",
          "data": {
            "image/png": "[encoded data removed]",
            "text/plain": [
              "<Figure size 432x288 with 1 Axes>"
            ]
          },
          "metadata": {
            "tags": []
          }
        }
      ]
    },
    {
      "cell_type": "code",
      "metadata": {
        "id": "My1X986isMlZ",
        "colab_type": "code",
        "outputId": "e4dbfac3-8001-42f9-f3d6-832a60e859a6",
        "colab": {
          "base_uri": "https://localhost:8080/",
          "height": 333
        }
      },
      "source": [
        "## PSNR calculations\n",
        "denoised_img = model(noisy.cuda().unsqueeze(0)).cpu().squeeze().detach().numpy().transpose(1, 2, 0)\n",
        "\n",
        "plt.imshow(denoised_img.astype(\"uint8\"))\n",
        "plt.show()\n",
        "\n",
        "from skimage.measure import compare_psnr,compare_ssim\n",
        "\n",
        "real = real.numpy().transpose(1, 2, 0)\n",
        "noisy = noisy.numpy().transpose(1, 2, 0)\n",
        "print(real.shape, noisy.shape)\n",
        "h,w,_ = noisy.shape\n",
        "noisy = noisy[8: h-8,8:w-8]\n",
        "print(real.shape, noisy.shape)\n",
        "\n",
        "\n",
        "\n",
        "real_psnr = compare_psnr(real,noisy ,255)\n",
        "model_psnr = compare_psnr(real, denoised_img,255)\n",
        "\n",
        "real_ssim = compare_ssim(X=real,Y=noisy ,data_range=255,multichannel=True)\n",
        "model_ssim = compare_ssim(X=real,Y=denoised_img,data_range=255,multichannel=True)\n",
        "\n",
        "\n",
        "print(real_psnr,model_psnr)\n",
        "print(real_ssim,model_ssim)"
      ],
      "execution_count": 238,
      "outputs": [
        {
          "output_type": "display_data",
          "data": {
            "image/png": "[encoded data removed]",
            "text/plain": [
              "<Figure size 432x288 with 1 Axes>"
            ]
          },
          "metadata": {
            "tags": []
          }
        },
        {
          "output_type": "stream",
          "text": [
            "(17, 17, 3) (33, 33, 3)\n",
            "(17, 17, 3) (17, 17, 3)\n",
            "15.165599038905864 23.185159988493385\n",
            "0.3191612901244631 0.7783553024364972\n"
          ],
          "name": "stdout"
        }
      ]
    },
    {
      "cell_type": "code",
      "metadata": {
        "id": "dzmn2hNRsMn3",
        "colab_type": "code",
        "colab": {
          "base_uri": "https://localhost:8080/",
          "height": 34
        },
        "outputId": "008c4fc5-0448-4fc8-dcf1-e849fdf8fa3a"
      },
      "source": [
        "## psnr stats\n",
        "\n",
        "from tqdm import tqdm\n",
        "\n",
        "psnrs = []\n",
        "ssims = []\n",
        "\n",
        "for sample in tqdm(test_dataset):\n",
        "  real, noisy = sample[\"original_image\"], sample[\"noisy_image\"]\n",
        "  ## PSNR calculations\n",
        "  denoised_img = model(noisy.cuda().unsqueeze(0)).cpu().squeeze().detach().numpy().transpose(1, 2, 0)\n",
        "\n",
        "  real = real.numpy().transpose(1, 2, 0)\n",
        "  noisy = noisy.numpy().transpose(1, 2, 0)\n",
        "  # print(real.shape, noisy.shape)\n",
        "  h,w,_ = noisy.shape\n",
        "  noisy = noisy[8: h-8,8:w-8]\n",
        "  # print(real.shape, noisy.shape)\n",
        "\n",
        "\n",
        "\n",
        "  real_psnr = compare_psnr(real,noisy ,255)\n",
        "  model_psnr = compare_psnr(real, denoised_img,255)\n",
        "\n",
        "  psnrs.append((real_psnr,model_psnr))\n",
        "\n",
        "  real_ssim = compare_ssim(X=real,Y=noisy ,data_range=255,multichannel=True)\n",
        "  model_ssim = compare_ssim(X=real,Y=denoised_img,data_range=255,multichannel=True)\n",
        "\n",
        "  ssims.append((real_ssim,model_ssim))"
      ],
      "execution_count": 156,
      "outputs": [
        {
          "output_type": "stream",
          "text": [
            "100%|██████████| 67/67 [00:02<00:00, 29.05it/s]\n"
          ],
          "name": "stderr"
        }
      ]
    },
    {
      "cell_type": "code",
      "metadata": {
        "id": "6ttWXsSbBI_X",
        "colab_type": "code",
        "colab": {
          "base_uri": "https://localhost:8080/",
          "height": 68
        },
        "outputId": "b218c125-555a-471f-a31f-8d18bc8d42cd"
      },
      "source": [
        "s1 = [0,0]\n",
        "s2 = [0,0]\n",
        "\n",
        "for i in range(len(psnrs)):\n",
        "  s1[0]+= psnrs[i][0]\n",
        "  s1[1]+= psnrs[i][1]\n",
        "  s2[0]+= ssims[i][0]\n",
        "  s2[1]+= ssims[i][1]\n",
        "\n",
        "n = len(psnrs)\n",
        "print(n)\n",
        "\n",
        "print(s1[0]/n,s1[1]/n)\n",
        "print(s2[0]/n,s2[1]/n)\n"
      ],
      "execution_count": 157,
      "outputs": [
        {
          "output_type": "stream",
          "text": [
            "67\n",
            "28.260697395304945 33.33608908764743\n",
            "0.759813037313774 0.9310548294070953\n"
          ],
          "name": "stdout"
        }
      ]
    },
    {
      "cell_type": "code",
      "metadata": {
        "id": "skbPI0t1BJKI",
        "colab_type": "code",
        "colab": {}
      },
      "source": [
        "## using dn_resnet 3 layer \n",
        "\n",
        "##psnr averages with 50 sigma, 200 crop size\n",
        "14.973042415349417 25.678599595017495\n",
        "0.25360402872293836 0.7169126150233502\n",
        "\n",
        "##psnr averages with 25 sigma, 200 crop size\n",
        "20.489541131226048 29.459506209247255\n",
        "0.4543074518017813 0.8514222434602313\n",
        "\n",
        "##psnr averages with 10 sigma, 200 crop size\n",
        "28.260697395304945 33.33608908764743\n",
        "0.759813037313774 0.9310548294070953\n",
        "\n",
        "##psnr averages with 50 sigma, 33 crop size\n",
        "15.047263794208707 26.689931811823588\n",
        "0.22653035603369392 0.6985790887565936"
      ],
      "execution_count": 0,
      "outputs": []
    },
    {
      "cell_type": "code",
      "metadata": {
        "id": "lSG4pYlzBJPG",
        "colab_type": "code",
        "colab": {}
      },
      "source": [
        "## using dn_resnet 3 layer \n",
        "\n",
        "##psnr averages with 50 sigma, 200 crop size\n",
        "14.936671462827626 25.587376709598537\n",
        "0.24620526247389574 0.7081614024709503\n",
        "\n",
        "##psnr averages with 25 sigma, 200 crop size\n",
        "20.513676879788218 29.116933436963734\n",
        "0.4654254023410544 0.8483339176769287\n",
        "\n",
        "##psnr averages with 10 sigma, 200 crop size\n",
        "28.25300504116213 32.842224416743036\n",
        "0.7517520790173152 0.9220117575097961\n",
        "\n",
        "##psnr averages with 50 sigma, 33 crop size\n",
        "14.97794610257495 26.058241500922545\n",
        "0.23024619624481021 0.7039497167777483"
      ],
      "execution_count": 0,
      "outputs": []
    },
    {
      "cell_type": "code",
      "metadata": {
        "id": "lDSXX0NbBJS2",
        "colab_type": "code",
        "colab": {
          "base_uri": "https://localhost:8080/",
          "height": 34
        },
        "outputId": "838dd769-fc27-462e-bc5c-09d087850b1e"
      },
      "source": [
        "## save images\n",
        "\n",
        "real_psnrs = []\n",
        "model_psnrs = []\n",
        "real_ssims = []\n",
        "model_ssims = []\n",
        "test_dataset = NoisyImageDataset(\"/content/test_data.csv\",\"/content/CBSD68-dataset-master/CBSD68\")\n",
        "\n",
        "c = 0\n",
        "for sample in tqdm(test_dataset):\n",
        "  real, noisy = sample[\"original_image\"], sample[\"noisy_image\"]\n",
        "  ## PSNR calculations\n",
        "  denoised_img = model2(noisy.cuda().unsqueeze(0)).cpu().squeeze().detach().numpy().transpose(1, 2, 0)\n",
        "\n",
        "  real = real.numpy().transpose(1, 2, 0)\n",
        "  noisy = noisy.numpy().transpose(1, 2, 0)\n",
        "  # print(real.shape, noisy.shape)\n",
        "  h,w,_ = noisy.shape\n",
        "  noisy = noisy[8: h-8,8:w-8]\n",
        "  # print(real.shape, noisy.shape)\n",
        "  real_psnr = compare_psnr(real,noisy ,255)\n",
        "  model_psnr = compare_psnr(real, denoised_img,255)\n",
        "\n",
        "  real_psnrs.append(real_psnr)\n",
        "  model_psnrs.append(model_psnr)\n",
        "\n",
        "  real_ssim = compare_ssim(X=real,Y=noisy ,data_range=255,multichannel=True)\n",
        "  model_ssim = compare_ssim(X=real,Y=denoised_img,data_range=255,multichannel=True)\n",
        "\n",
        "  real_ssims.append(real_ssim)\n",
        "  model_ssims.append(model_ssim)\n",
        "  \n",
        "  denoised_img = denoised_img.astype(\"uint8\")\n",
        "  io.imsave('/content/drive/My Drive/dn_resnet_results/dn_resnet_150_fine_tuned/50/{}.jpg'.format(c), denoised_img)\n",
        "\n",
        "  c+=1\n",
        "\n",
        "df = pd.DataFrame({\"r_p\":real_psnrs,\"m_p\":model_psnrs,\"r_s\":real_ssims,\"m_s\":model_ssims})\n",
        "df.to_csv(\"/content/drive/My Drive/dn_resnet_results/dn_resnet_150_fine_tuned/50/info.csv\")"
      ],
      "execution_count": 225,
      "outputs": [
        {
          "output_type": "stream",
          "text": [
            "100%|██████████| 9/9 [00:01<00:00,  8.65it/s]\n"
          ],
          "name": "stderr"
        }
      ]
    },
    {
      "cell_type": "code",
      "metadata": {
        "id": "Kd_ENRPnBJap",
        "colab_type": "code",
        "colab": {}
      },
      "source": [
        "\n",
        "## create 9 image plots for 10, 25 and 50 sigmas"
      ],
      "execution_count": 0,
      "outputs": []
    },
    {
      "cell_type": "code",
      "metadata": {
        "id": "BZ8uTY4HEy2i",
        "colab_type": "code",
        "colab": {}
      },
      "source": [
        ""
      ],
      "execution_count": 0,
      "outputs": []
    },
    {
      "cell_type": "code",
      "metadata": {
        "id": "jfguzkq8Flne",
        "colab_type": "code",
        "colab": {}
      },
      "source": [
        ""
      ],
      "execution_count": 0,
      "outputs": []
    },
    {
      "cell_type": "code",
      "metadata": {
        "id": "-qIdDrWnIbay",
        "colab_type": "code",
        "colab": {}
      },
      "source": [
        ""
      ],
      "execution_count": 0,
      "outputs": []
    }
  ]
}